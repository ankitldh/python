{
 "cells": [
  {
   "cell_type": "code",
   "execution_count": 72,
   "metadata": {},
   "outputs": [
    {
     "name": "stdout",
     "output_type": "stream",
     "text": [
      "table press 1: check prime number 2: factorial press 3: fabonocess press 4:3\n",
      "enter value = 3\n",
      "6\n"
     ]
    }
   ],
   "source": [
    "num = int(input(\"table press 1: check prime number 2: factorial press 3: fabonocess press 4:\"))\n",
    "num_x = int(input(\"enter value = \"))\n",
    "table = 1\n",
    "fabono_t = 1\n",
    "fabono = 0\n",
    "flag = False\n",
    "factorial = 1\n",
    "if num==1:\n",
    "    for x in range(1,11):\n",
    "        print(num_x,\"*\" ,x,\"=\",num_x*x)\n",
    "elif num==2:\n",
    "    for y in range(2,num_x-1):  \n",
    "        if num_x%y==0:\n",
    "             flag = True\n",
    "    if flag is True:\n",
    "        print(num_x,\"is not a prime number\")\n",
    "    elif num_x==1:\n",
    "        print(\"1 is not a prime number\")\n",
    "    else:\n",
    "            print(num_x,\"is a prime number\")\n",
    "elif num==3:\n",
    "    for fac in range(1,num_x+1):\n",
    "        factorial*=fac\n",
    "    print(factorial)\n",
    "elif num==4:\n",
    "    for fabno in range(1,num_x+1):\n",
    "            total = fabono_t+fabono\n",
    "            fabono_t =  fabono\n",
    "            fabono = total\n",
    "            print(total)\n",
    "else:\n",
    "    print(\"wrong input please check the number\")\n",
    "\n",
    "\n"
   ]
  }
 ],
 "metadata": {
  "kernelspec": {
   "display_name": "Python 3",
   "language": "python",
   "name": "python3"
  },
  "language_info": {
   "codemirror_mode": {
    "name": "ipython",
    "version": 3
   },
   "file_extension": ".py",
   "mimetype": "text/x-python",
   "name": "python",
   "nbconvert_exporter": "python",
   "pygments_lexer": "ipython3",
   "version": "3.8.3"
  }
 },
 "nbformat": 4,
 "nbformat_minor": 4
}
